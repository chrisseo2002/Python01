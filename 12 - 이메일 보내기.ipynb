{
 "cells": [
  {
   "cell_type": "markdown",
   "id": "ef7c9c2b",
   "metadata": {
    "id": "ef7c9c2b"
   },
   "source": [
    "<center><img src='https://raw.githubusercontent.com/Jangrae/img/master/title3.png' width=500/></center>"
   ]
  },
  {
   "cell_type": "markdown",
   "id": "710ee378",
   "metadata": {
    "id": "710ee378"
   },
   "source": [
    "# 12.이메일 보내기\n",
    "\n",
    "- 다음 네 단계로 Google의 smtp를 사용해 메일을 보냅니다.\n",
    "- 단, GMail 설정을 통해 메일 발송을 위한 앱 비밀번호를 득한 후 가능합니다."
   ]
  },
  {
   "cell_type": "markdown",
   "id": "668049c9",
   "metadata": {
    "id": "668049c9"
   },
   "source": [
    "### 1 단계: 필요한 라이브러리 불러오기\n",
    "\n",
    "- 이메일 보낼 때 필요한 라이브러리를 불러옵니다."
   ]
  },
  {
   "cell_type": "code",
   "execution_count": 3,
   "id": "5e994bca",
   "metadata": {
    "id": "5e994bca"
   },
   "outputs": [],
   "source": [
    "# 라이브러리를 불러오기\n",
    "import smtplib\n",
    "from email.mime.text import MIMEText"
   ]
  },
  {
   "cell_type": "markdown",
   "id": "185ad1d5",
   "metadata": {
    "id": "185ad1d5"
   },
   "source": [
    "### 2 단계: 이메일 보내기 준비\n",
    "\n",
    "- GMail 주소와 앱 비밀번호를 입력해 로그인 합니다."
   ]
  },
  {
   "cell_type": "code",
   "execution_count": 4,
   "id": "21d8702f",
   "metadata": {
    "id": "21d8702f",
    "outputId": "07119e6a-c836-4950-b0a1-4855707e480a",
    "scrolled": true
   },
   "outputs": [
    {
     "data": {
      "text/plain": [
       "(235, b'2.7.0 Accepted')"
      ]
     },
     "execution_count": 4,
     "metadata": {},
     "output_type": "execute_result"
    }
   ],
   "source": [
    "# smtp 주소\n",
    "s = smtplib.SMTP('smtp.gmail.com', 587)\n",
    "\n",
    "# TLS 보안 시작\n",
    "s.starttls() \n",
    "\n",
    "# 로그인 인증\n",
    "s.login('chrisseo2002@gmail.com', '----') "
   ]
  },
  {
   "cell_type": "markdown",
   "id": "2c518105",
   "metadata": {
    "id": "2c518105"
   },
   "source": [
    "### 3단계: 이메일 내용 구성\n",
    "\n",
    "- 이메일 내용과 제목을 작성합니다."
   ]
  },
  {
   "cell_type": "code",
   "execution_count": 5,
   "id": "1569ef28",
   "metadata": {
    "id": "1569ef28"
   },
   "outputs": [],
   "source": [
    "# 본문\n",
    "msg = MIMEText('''\n",
    "Test Test Test\n",
    "''')\n",
    "\n",
    "# 제목\n",
    "msg['Subject'] = 'Email Sending Test with Python'"
   ]
  },
  {
   "cell_type": "markdown",
   "id": "57ace93d",
   "metadata": {
    "id": "57ace93d"
   },
   "source": [
    "### 4 단계: 이메일 보내기\n",
    "\n",
    "- 발신자 주소와 수진자 주소를 입력하고 메일을 보냅니다."
   ]
  },
  {
   "cell_type": "code",
   "execution_count": 6,
   "id": "f0a17fad",
   "metadata": {
    "id": "f0a17fad",
    "outputId": "d8a8ea09-0e83-46df-e895-c833c161afbd"
   },
   "outputs": [
    {
     "data": {
      "text/plain": [
       "(221,\n",
       " b'2.0.0 closing connection 12-20020a170902c10c00b001b7cbc5871csm14168702pli.53 - gsmtp')"
      ]
     },
     "execution_count": 6,
     "metadata": {},
     "output_type": "execute_result"
    }
   ],
   "source": [
    "# 메일 보내기\n",
    "s.sendmail('chrisseo2002@gmail.com', 'vhskim@naver.com', msg.as_string())\n",
    "s.quit()     "
   ]
  }
 ],
 "metadata": {
  "colab": {
   "collapsed_sections": [],
   "name": "12 - 이메일 보내기.ipynb",
   "provenance": [],
   "toc_visible": true
  },
  "kernelspec": {
   "display_name": "Python 3 (ipykernel)",
   "language": "python",
   "name": "python3"
  },
  "language_info": {
   "codemirror_mode": {
    "name": "ipython",
    "version": 3
   },
   "file_extension": ".py",
   "mimetype": "text/x-python",
   "name": "python",
   "nbconvert_exporter": "python",
   "pygments_lexer": "ipython3",
   "version": "3.11.3"
  }
 },
 "nbformat": 4,
 "nbformat_minor": 5
}
