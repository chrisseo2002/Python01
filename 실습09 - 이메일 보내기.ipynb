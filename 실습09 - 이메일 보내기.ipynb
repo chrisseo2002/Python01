{
 "cells": [
  {
   "cell_type": "markdown",
   "id": "ef7c9c2b",
   "metadata": {
    "id": "ef7c9c2b"
   },
   "source": [
    "<center><img src='https://raw.githubusercontent.com/Jangrae/img/master/title3.png' width=500/></center>"
   ]
  },
  {
   "cell_type": "markdown",
   "id": "65b306b2",
   "metadata": {},
   "source": [
    "<center><img src='https://raw.githubusercontent.com/Jangrae/img/master/practice.png' width=300/></center>"
   ]
  },
  {
   "cell_type": "markdown",
   "id": "f68d189c",
   "metadata": {
    "id": "f68d189c"
   },
   "source": [
    "# 실습 #1: 이메일 보내기\n",
    "\n",
    "1) 이메일을 보내기 위해 필요한 라이브러리를 불러오세요."
   ]
  },
  {
   "cell_type": "code",
   "execution_count": 1,
   "id": "57350b76",
   "metadata": {
    "id": "57350b76",
    "outputId": "8e5a227b-7c98-40e6-972b-e6951a4a9b2b"
   },
   "outputs": [],
   "source": [
    "import smtplib\n",
    "from email.mime.text import MIMEText\n",
    "\n"
   ]
  },
  {
   "cell_type": "markdown",
   "id": "5c3373b3",
   "metadata": {},
   "source": [
    "2) 아래코드에 gmail주소, 앱 비밀번호를 입력하세요."
   ]
  },
  {
   "cell_type": "code",
   "execution_count": 2,
   "id": "11013a40",
   "metadata": {},
   "outputs": [
    {
     "data": {
      "text/plain": [
       "(235, b'2.7.0 Accepted')"
      ]
     },
     "execution_count": 2,
     "metadata": {},
     "output_type": "execute_result"
    }
   ],
   "source": [
    "s = smtplib.SMTP('smtp.gmail.com', 587)      # 세션 생성\n",
    "s.starttls()                                 # TLS 보안 시작\n",
    "s.login('chrisseo2002@gmail.com', '----')           # 로그인 인증"
   ]
  },
  {
   "cell_type": "markdown",
   "id": "c2120533",
   "metadata": {},
   "source": [
    "3) 이메일 본문(최소 2줄 이상), 이메일 제목을 자유롭게 구성해 보세요."
   ]
  },
  {
   "cell_type": "code",
   "execution_count": 3,
   "id": "d83596e7",
   "metadata": {},
   "outputs": [],
   "source": [
    "msg = MIMEText(\"\"\"\n",
    "I want you to be mine\n",
    "Love of my life\n",
    "I wanna be yours\n",
    "No I used to be yours\n",
    "내겐 음악이\n",
    "바다 건너 보내는 우표 없는 편지였고\n",
    "가사 한 줄이\n",
    "몇 날 며칠을 밤새 쓴 진심이었고\n",
    "결국 음악이\n",
    "그 바다에 날 던져 내 숨통을 조여와도\n",
    "남은 한숨만큼의 공기를 부여잡고\n",
    "오직 너를 위해 토해내는\n",
    "나의 진짜 마지막\n",
    "시야\n",
    "미안 내 눈에서 녹아 흘러내리는\n",
    "비야 어디야\n",
    "흐르기 전에 말라 비틀어져라\n",
    "강으로 흘러가기 전에\n",
    "그 강이 바다가 되면\n",
    "내가 비워낼 게 더 많아지니까\n",
    "너를 비우고 난 뒤에\n",
    "남은 게 없는 내 상처만 깊어질 테니까\n",
    "I want you to be mine\n",
    "Love of my life\n",
    "I wanna be yours\n",
    "No I used to be yours\n",
    "She taught me love and she walked away\n",
    "Imagine it\n",
    "She taught me hope and she took it back\n",
    "How bad it is\n",
    "Only the one last word she left\n",
    "Tragedy\n",
    "You filled my heart with you\n",
    "And faded away\n",
    "I hope this is the last night I dream of you\n",
    "I made a nice and cute name for me and you\n",
    "For now I'd call you a nightmare\n",
    "Goodnight goodbye my universe\n",
    "이 가사를 영어로 써야 했던 이유는\n",
    "차마 한글로 내 감정을 팔기 싫어서\n",
    "내가 너에게 느끼는 슬픔과 미움을\n",
    "글로 써 부르는 내가 꼴 보기 싫어서\n",
    "너 덕분에 곡을 쓰는 게 너무 쉬웠어\n",
    "혹시라도 네가 들을 수 없을지언정\n",
    "오직 너에게 닿기만을 바라는 마음으로 쓴\n",
    "가사들은 너 없이도 의미 있어\n",
    "I want you to be mine\n",
    "Love of my life\n",
    "I wanna be yours\n",
    "No I used to be yours\n",
    "I want you to be mine\n",
    "Love of my life\n",
    "I wanna be yours\n",
    "No I used to be yours\n",
    "I want you to be mine\n",
    "Love of my life\n",
    "I wanna be yours\n",
    "No I used to be yours\"\"\")\n",
    "msg['Subject'] = '마지막 시'"
   ]
  },
  {
   "cell_type": "markdown",
   "id": "7e98a6af",
   "metadata": {},
   "source": [
    "4) 발신 주소와 수신 주소를 입력하고 메일을 보내세요."
   ]
  },
  {
   "cell_type": "code",
   "execution_count": 4,
   "id": "cab4a7d8",
   "metadata": {},
   "outputs": [
    {
     "data": {
      "text/plain": [
       "(221,\n",
       " b'2.0.0 closing connection n25-20020aa79059000000b00682a908949bsm12095082pfo.92 - gsmtp')"
      ]
     },
     "execution_count": 4,
     "metadata": {},
     "output_type": "execute_result"
    }
   ],
   "source": [
    "s.sendmail('chrisseo2002@gmail.com', 'vhskim@naver.com', msg.as_string())\n",
    "s.quit()    "
   ]
  },
  {
   "cell_type": "markdown",
   "id": "405bbec3",
   "metadata": {
    "id": "f68d189c"
   },
   "source": [
    "# 실습 #2: [심화] 마감일 통보 이메일 보내기\n",
    "\n",
    "- 다음은 현재 시스템 날짜와 시간을 조회하는 코드입니다."
   ]
  },
  {
   "cell_type": "code",
   "execution_count": 6,
   "id": "3634a23a",
   "metadata": {
    "id": "57350b76",
    "outputId": "8e5a227b-7c98-40e6-972b-e6951a4a9b2b"
   },
   "outputs": [
    {
     "name": "stdout",
     "output_type": "stream",
     "text": [
      "현재 날짜 시간: 2023-08-17 15:07:21.881272\n",
      "현재 연도: 2023\n",
      "현재 월: 8\n",
      "현재 일: 17\n",
      "현재 요일: 3\n",
      "내일: 2023-08-18 15:07:21.881272\n"
     ]
    }
   ],
   "source": [
    "# 현재 시스템 날짜와 시간을 조회\n",
    "from datetime import datetime, timedelta\n",
    "\n",
    "print('현재 날짜 시간:', datetime.today())\n",
    "print('현재 연도:', datetime.today().year)\n",
    "print('현재 월:', datetime.today().month)\n",
    "print('현재 일:', datetime.today().day)\n",
    "print('현재 요일:', datetime.today().weekday())   # 0: 월요일 ~ 6: 일요일\n",
    "print('내일:', datetime.today() + timedelta(1))"
   ]
  },
  {
   "cell_type": "markdown",
   "id": "b9ed3bb1",
   "metadata": {
    "id": "b9ed3bb1"
   },
   "source": [
    "1) 위 코드를 참조하여 이메일 내용을 아래와 같이 구성하여 메일을 보내세요.\n",
    "- 내용에 포함된 날짜는 시스템으로 오늘 날짜를 받아와서 5일을 더하여 내용에 포함되게 하세요. \n",
    "- 힌트: f'''문자열{변수}...''' 형태를 활용해 봅니다.\n",
    "~~~\n",
    "제목: 제출 마감이 5일 남았습니다.\n",
    "내용: \n",
    "안녕하세요?\n",
    "과제 제출 마감이 5일 남았습니다. \n",
    "0000년 00월 00일까지 반드시 제출바랍니다.\n",
    "감사합니다!\n",
    "~~~"
   ]
  },
  {
   "cell_type": "code",
   "execution_count": 7,
   "id": "e9a66c46",
   "metadata": {
    "id": "e9a66c46",
    "outputId": "4366444d-037c-4f34-da0b-0cff8c1e0acc"
   },
   "outputs": [
    {
     "data": {
      "text/plain": [
       "(221,\n",
       " b'2.0.0 closing connection 5-20020aa79145000000b00679b7d2bd57sm12035838pfi.192 - gsmtp')"
      ]
     },
     "execution_count": 7,
     "metadata": {},
     "output_type": "execute_result"
    }
   ],
   "source": [
    "import smtplib\n",
    "from email.mime.text import MIMEText\n",
    "# smtp 주소\n",
    "s = smtplib.SMTP('smtp.gmail.com', 587)\n",
    "\n",
    "# TLS 보안 시작\n",
    "s.starttls() \n",
    "\n",
    "# 로그인 인증\n",
    "s.login('chrisseo2002@gmail.com', '-----') \n",
    "\n",
    "msg = MIMEText(f'''\n",
    "안녕하세요?\n",
    "과제 제출 마감이 5일 남았습니다.\n",
    "{datetime.today().year}년 {datetime.today().month}월 {datetime.today().day + timedelta(5)}일까지 반드시 제출바랍니다.\n",
    "감사합니다!\n",
    "''')\n",
    "\n",
    "msg['Subject'] = '제출 마감이 5일 남았습니다.'\n",
    "\n",
    "s.sendmail('chrisseo2002@gmail.com', 'vhskim@naver.com', msg.as_string())\n",
    "s.quit()   "
   ]
  },
  {
   "cell_type": "markdown",
   "id": "c51effb7",
   "metadata": {
    "id": "c51effb7"
   },
   "source": [
    "# 실습 #3: [심화] 오늘의 과일 안내 이메일 보내기\n",
    "\n",
    "2) 엑셀 파일 마지막 실습 결과인 Fruit6.xlsx 파일을 읽어서 다음의 내용으로 이메일을 보내세요.\n",
    "\n",
    "- Fruit6.xlsx의 세번째 열의 0~6 사이의 숫자가 요일을 의미합니다. \n",
    "- 오늘의 요일에 해당되는 과일 이름을 읽어서 아래 메일 내용을 구성하세요.\n",
    "\n",
    "~~~\n",
    "제목: 오늘의 과일은 OOO 입니다.\n",
    "내용: \n",
    "안녕하세요?\n",
    "오늘의 과일은 OOO입니다. \n",
    "건강을 위해 오전에 꼭 챙겨 드시기 바랍니다.\n",
    "감사합니다!\n",
    "~~~\n",
    "\n",
    "- 힌트\n",
    "    - datetime.today().weekday()를 통해 오늘의 요일을 얻을 수 있습니다.\n",
    "    - if 조건문을 사용하여 오늘의 요일과 Fruit6.xlsx의 세 번째 열의 값을 비교해 보세요.\n",
    "    - 값이 일치할 경우 해당하는 행의 첫 번째 열의 값이 오늘의 요일에 해당하는 과일이 됩니다."
   ]
  },
  {
   "cell_type": "code",
   "execution_count": 16,
   "id": "487fe05b",
   "metadata": {
    "id": "487fe05b",
    "outputId": "3b7d79a2-9282-44bc-bec1-8adeef68db50"
   },
   "outputs": [
    {
     "data": {
      "text/plain": [
       "(221,\n",
       " b'2.0.0 closing connection 8-20020aa79108000000b00686da0e163bsm12406677pfh.11 - gsmtp')"
      ]
     },
     "execution_count": 16,
     "metadata": {},
     "output_type": "execute_result"
    }
   ],
   "source": [
    "import smtplib\n",
    "from email.mime.text import MIMEText\n",
    "from datetime import datetime, timedelta\n",
    "import openpyxl as xl\n",
    "\n",
    "wb = xl.load_workbook('Fruit6.xlsx')\n",
    "sheet2 = wb['Sheet2']\n",
    "\n",
    "table = {}\n",
    "for i in range(1, sheet2.max_row + 1):\n",
    "    table[str(sheet2.cell(row=i, column=3).value)] = sheet2.cell(row=i, column=1).value\n",
    "\n",
    "today = str(datetime.today().weekday())\n",
    "fruit = table[today]\n",
    "\n",
    "# smtp 주소\n",
    "s = smtplib.SMTP('smtp.gmail.com', 587)\n",
    "\n",
    "# TLS 보안 시작\n",
    "s.starttls() \n",
    "\n",
    "# 로그인 인증\n",
    "s.login('chrisseo2002@gmail.com', '----') \n",
    "\n",
    "msg = MIMEText(f'''\n",
    "안녕하세요?\n",
    "오늘의 과일은 {fruit}입니다.\n",
    "건강을 위해 오전에 꼭 챙겨 드시기 바랍니다.\n",
    "감사합니다!\n",
    "''')\n",
    "\n",
    "msg['Subject'] = f'오늘의 과일은 {fruit}입니다.'\n",
    "\n",
    "s.sendmail('chrisseo2002@gmail.com', 'vhskim@naver.com', msg.as_string())\n",
    "s.quit()   \n",
    "\n",
    "\n"
   ]
  }
 ],
 "metadata": {
  "colab": {
   "collapsed_sections": [],
   "name": "실습12 - 이메일 보내기.ipynb",
   "provenance": [],
   "toc_visible": true
  },
  "kernelspec": {
   "display_name": "Python 3 (ipykernel)",
   "language": "python",
   "name": "python3"
  },
  "language_info": {
   "codemirror_mode": {
    "name": "ipython",
    "version": 3
   },
   "file_extension": ".py",
   "mimetype": "text/x-python",
   "name": "python",
   "nbconvert_exporter": "python",
   "pygments_lexer": "ipython3",
   "version": "3.11.3"
  }
 },
 "nbformat": 4,
 "nbformat_minor": 5
}
