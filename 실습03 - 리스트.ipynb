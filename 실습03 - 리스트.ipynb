{
 "cells": [
  {
   "cell_type": "markdown",
   "metadata": {
    "id": "b3TDAdnvnSbh"
   },
   "source": [
    "<center><img src='https://raw.githubusercontent.com/Jangrae/img/master/title3.png' width=500/></center>"
   ]
  },
  {
   "cell_type": "markdown",
   "metadata": {
    "id": "mDCfW4_-1Y_x"
   },
   "source": [
    "<center><img src='https://raw.githubusercontent.com/Jangrae/img/master/practice.png' width=300/></center>"
   ]
  },
  {
   "cell_type": "markdown",
   "metadata": {
    "id": "32779570"
   },
   "source": [
    "# 실습 #1: 리스트 생성하기"
   ]
  },
  {
   "cell_type": "markdown",
   "metadata": {
    "id": "YsczyFXrCcHJ"
   },
   "source": [
    "1) 리스트 a에 1, 2, 3, 4, 5를 저장하고 출력하세요."
   ]
  },
  {
   "cell_type": "code",
   "execution_count": null,
   "metadata": {
    "id": "060a7ef0"
   },
   "outputs": [],
   "source": [
    "\n",
    "\n",
    "\n"
   ]
  },
  {
   "cell_type": "markdown",
   "metadata": {
    "id": "8hkGME6GCg-r"
   },
   "source": [
    "2) 리스트 b에 'ab', 'cd', 'ef'를 저장하고 출력하세요."
   ]
  },
  {
   "cell_type": "code",
   "execution_count": null,
   "metadata": {
    "id": "b9a33756"
   },
   "outputs": [],
   "source": [
    "\n",
    "\n",
    "\n"
   ]
  },
  {
   "cell_type": "markdown",
   "metadata": {
    "id": "KCBlca7RC9Oz"
   },
   "source": [
    "3) 리스트 c에 123, 'ab', 45, 'cde'를 저장하고 출력하세요."
   ]
  },
  {
   "cell_type": "code",
   "execution_count": null,
   "metadata": {
    "id": "e3a434ab"
   },
   "outputs": [],
   "source": [
    "\n",
    "\n",
    "\n"
   ]
  },
  {
   "cell_type": "markdown",
   "metadata": {
    "id": "fFMeIxCnC_fL"
   },
   "source": [
    "4) 리스트 list_a에 1, 3, 5, 7, 9를, 리스트 list_b에 1, 'a', 3, 'b'를 저장하고 각각의 리스트를 출력하세요."
   ]
  },
  {
   "cell_type": "code",
   "execution_count": null,
   "metadata": {
    "id": "47158015"
   },
   "outputs": [],
   "source": [
    "\n",
    "\n"
   ]
  },
  {
   "cell_type": "markdown",
   "metadata": {
    "id": "V2M5sylfDBsd"
   },
   "source": [
    "5) range() 함수를 사용하여 0부터 20까지의 값들을 리스트 d에 저장하고 출력하세요."
   ]
  },
  {
   "cell_type": "code",
   "execution_count": null,
   "metadata": {
    "id": "58dbcc58"
   },
   "outputs": [],
   "source": [
    "\n",
    "\n",
    "\n"
   ]
  },
  {
   "cell_type": "markdown",
   "metadata": {
    "id": "q-wOdj_0DEA2"
   },
   "source": [
    "6) range() 함수를 사용하여 1부터 19까지 3씩 증가시킨 값들을 리스트 list_c에 저장하고 출력하세요."
   ]
  },
  {
   "cell_type": "code",
   "execution_count": null,
   "metadata": {
    "id": "64c8475f"
   },
   "outputs": [],
   "source": [
    "\n",
    "\n",
    "\n"
   ]
  },
  {
   "cell_type": "markdown",
   "metadata": {
    "id": "V1wO-_JrDF2G"
   },
   "source": [
    "7) 리스트 list_d에 1, 2, 3을 저장한 뒤, 리스트 list_e에 리스트 list_d와 4, 5를 저장하고 출력하세요.\n"
   ]
  },
  {
   "cell_type": "code",
   "execution_count": null,
   "metadata": {
    "id": "9b35e90a"
   },
   "outputs": [],
   "source": [
    "\n",
    "\n",
    "\n"
   ]
  },
  {
   "cell_type": "markdown",
   "metadata": {
    "id": "biFIvEzXDL31"
   },
   "source": [
    "8) 리스트 list1에 1, 3, 'hello'를 저장한 뒤, 리스트 list2에 리스트 list1과 'happy', 2, 4를 저장하고 출력하세요."
   ]
  },
  {
   "cell_type": "code",
   "execution_count": null,
   "metadata": {
    "id": "e8dd7b92"
   },
   "outputs": [],
   "source": [
    "\n",
    "\n",
    "\n"
   ]
  },
  {
   "cell_type": "markdown",
   "metadata": {
    "id": "415e0083"
   },
   "source": [
    "# 실습 #2: 리스트 인덱싱과 슬라이싱"
   ]
  },
  {
   "cell_type": "markdown",
   "metadata": {
    "id": "Mc1z9yJFDReh"
   },
   "source": [
    "1) 리스트 list1에 1, 2, 3, 4, 5를 저장하고, 첫 번째 값과 마지막 값을 각각 출력하세요."
   ]
  },
  {
   "cell_type": "code",
   "execution_count": null,
   "metadata": {
    "id": "66a0e92f"
   },
   "outputs": [],
   "source": [
    "\n",
    "\n",
    "\n"
   ]
  },
  {
   "cell_type": "markdown",
   "metadata": {
    "id": "Edf2Hk6gDTPa"
   },
   "source": [
    "2) 리스트 a에 23, 3, 16, 45, 11을 저장하고 다음 값을 출력하세요. \n",
    "\n",
    "- 앞에서부터 첫 번째 값과 네 번째 값을 하나의 print 함수로 출력\n",
    "- 뒤에서부터 첫 번째 값과 세 번째 값을 하나의 print 함수로 출력"
   ]
  },
  {
   "cell_type": "code",
   "execution_count": null,
   "metadata": {
    "id": "5314564e"
   },
   "outputs": [],
   "source": [
    "\n",
    "\n",
    "\n"
   ]
  },
  {
   "cell_type": "markdown",
   "metadata": {
    "id": "V5OQVcVDDXIc"
   },
   "source": [
    "3) 리스트 a에 23, 3, 16, 45, 11을 저장하고, 첫 번째 값부터 세 번째 값까지 출력하세요.\n"
   ]
  },
  {
   "cell_type": "code",
   "execution_count": null,
   "metadata": {
    "id": "90ab75d3"
   },
   "outputs": [],
   "source": [
    "\n",
    "\n",
    "\n"
   ]
  },
  {
   "cell_type": "markdown",
   "metadata": {
    "id": "Nb3jpaaADa32"
   },
   "source": [
    "4) 리스트 a에 23, 3, 16, 45, 11을 저장하고, 세 번째 값부터 마지막 값까지 출력하세요."
   ]
  },
  {
   "cell_type": "code",
   "execution_count": null,
   "metadata": {
    "id": "a1dba84a"
   },
   "outputs": [],
   "source": [
    "\n",
    "\n",
    "\n"
   ]
  },
  {
   "cell_type": "markdown",
   "metadata": {
    "id": "MvEBm_5fDeSv"
   },
   "source": [
    "5) 리스트 a에 23, 3, 16, 45, 11을 저장하고, 아래 예시와 같이 출력하세요.\n",
    "\n",
    "- 첫 번째 줄은 순방향 인덱싱과 슬라이싱을 사용하세요.\n",
    "- 두 번째 줄은 역방향 인덱싱과 슬라이싱을 사용하세요.\n",
    "~~~\n",
    "[3, 16, 45] [23, 3, 16] [16, 45] [16, 45, 11]\n",
    "[16, 45] [] [16, 45, 11] [23]\n",
    "~~~"
   ]
  },
  {
   "cell_type": "code",
   "execution_count": null,
   "metadata": {
    "id": "a429fba0"
   },
   "outputs": [],
   "source": [
    "\n",
    "\n",
    "\n"
   ]
  },
  {
   "cell_type": "markdown",
   "metadata": {
    "id": "fc048fc3"
   },
   "source": [
    "# 실습 #3: 리스트 수정하기"
   ]
  },
  {
   "cell_type": "markdown",
   "metadata": {
    "id": "UxI2odLADj_D"
   },
   "source": [
    "1) 리스트 a에 23, 3, 16, 45, 11을 저장한 뒤 append()를 사용하여 99를 추가하세요.\n",
    "- 힌트: 리스트.append(추가할 값)"
   ]
  },
  {
   "cell_type": "code",
   "execution_count": null,
   "metadata": {
    "id": "24ec8803"
   },
   "outputs": [],
   "source": [
    "\n",
    "\n",
    "\n"
   ]
  },
  {
   "cell_type": "markdown",
   "metadata": {
    "id": "Z54kSDZCDnS1"
   },
   "source": [
    "2) 리스트 a에 23, 3, 16, 45, 11을 저장하고, append()로 99를 추가한 뒤, 리스트 + 리스트 형태를 사용하여 100을 추가하세요."
   ]
  },
  {
   "cell_type": "code",
   "execution_count": null,
   "metadata": {
    "id": "ff826916"
   },
   "outputs": [],
   "source": [
    "\n",
    "\n",
    "\n"
   ]
  },
  {
   "cell_type": "markdown",
   "metadata": {
    "id": "KpVyu8wZDxCc"
   },
   "source": [
    "3) 리스트 list1에 1, 3, 5, 7을, 리스트 list2에 2, 4, 8을 저장하고, list1의 두 번째 값을 list2에 추가하세요."
   ]
  },
  {
   "cell_type": "code",
   "execution_count": null,
   "metadata": {
    "id": "6d06df73"
   },
   "outputs": [],
   "source": [
    "\n",
    "\n",
    "\n"
   ]
  },
  {
   "cell_type": "markdown",
   "metadata": {
    "id": "iyxySbePD7l8"
   },
   "source": [
    "4) 리스트 list1에 1, 3, 5, 7을, 리스트 list2에 2, 4, 8을 저장하고 list2에 list1를 추가하세요.\n",
    "\n",
    "- 단, 리스트 + 리스트 형태를 사용하세요."
   ]
  },
  {
   "cell_type": "code",
   "execution_count": null,
   "metadata": {
    "id": "6fbba8ef",
    "scrolled": true
   },
   "outputs": [],
   "source": [
    "\n",
    "\n",
    "\n"
   ]
  },
  {
   "cell_type": "markdown",
   "metadata": {
    "id": "0Vbs7N5mEIHt"
   },
   "source": [
    "5) 리스트 a에 23, 3, 16, 45, 11을 저장하고 두 번째 값을 출력한 뒤 300으로 수정하고 다시 출력하세요.\n",
    "- 힌트: 리스트[수정 대상 인덱스] = 수정할 값\n"
   ]
  },
  {
   "cell_type": "code",
   "execution_count": null,
   "metadata": {
    "id": "2d72f156"
   },
   "outputs": [],
   "source": [
    "\n",
    "\n",
    "\n"
   ]
  },
  {
   "cell_type": "markdown",
   "metadata": {
    "id": "ZdTV8guzERIv"
   },
   "source": [
    "6) 리스트 a에 23, 3, 16, 45, 11을 저장하고 리스트의 마지막 값을 출력한 뒤 두 배의 값으로 수정하세요."
   ]
  },
  {
   "cell_type": "code",
   "execution_count": null,
   "metadata": {
    "id": "81cbdd17"
   },
   "outputs": [],
   "source": [
    "\n",
    "\n",
    "\n"
   ]
  },
  {
   "cell_type": "markdown",
   "metadata": {
    "id": "iDjXzN-dEXyM"
   },
   "source": [
    "7) 리스트 a에 23, 3, 16, 45, 11을 저장하고 두 번째 값을 삭제하세요.\n",
    "- 힌트: del 리스트[삭제 대상 인덱스]"
   ]
  },
  {
   "cell_type": "code",
   "execution_count": null,
   "metadata": {
    "id": "90ba61fa"
   },
   "outputs": [],
   "source": [
    "\n",
    "\n",
    "\n"
   ]
  },
  {
   "cell_type": "markdown",
   "metadata": {
    "id": "f17e9774"
   },
   "source": [
    "# 실습 #4: 리스트 관련 함수와 메소드"
   ]
  },
  {
   "cell_type": "markdown",
   "metadata": {
    "id": "CdLp0KdNEnjM"
   },
   "source": [
    "1) 리스트 list2에 1부터 20까지 3씩 증가하는 값들을 저장하고, 리스트 값들의 개수를 구하세요.\n",
    "\n",
    "- 힌트: len(리스트 이름)\n"
   ]
  },
  {
   "cell_type": "code",
   "execution_count": null,
   "metadata": {
    "id": "4ed258ee"
   },
   "outputs": [],
   "source": [
    "\n",
    "\n",
    "\n"
   ]
  },
  {
   "cell_type": "markdown",
   "metadata": {
    "id": "D3gEiM3yErZe"
   },
   "source": [
    "2) 리스트 list3에 'python', 'is', 'funny'를 저장하고, 리스트 값들의 개수를 구하세요."
   ]
  },
  {
   "cell_type": "code",
   "execution_count": null,
   "metadata": {
    "id": "1988b7bd"
   },
   "outputs": [],
   "source": [
    "\n",
    "\n",
    "\n"
   ]
  },
  {
   "cell_type": "markdown",
   "metadata": {
    "id": "OrH9KDP7Ey4z"
   },
   "source": [
    "3) 리스트 list1에 1 ~ 100 중 7의 배수를 저장하고, 리스트 값들의 합을 구하세요.\n",
    "\n",
    "- 힌트: sum(리스트 이름)"
   ]
  },
  {
   "cell_type": "code",
   "execution_count": null,
   "metadata": {
    "id": "0f4c7544"
   },
   "outputs": [],
   "source": [
    "\n",
    "\n",
    "\n"
   ]
  },
  {
   "cell_type": "markdown",
   "metadata": {
    "id": "K5P8icaRFJqw"
   },
   "source": [
    "4) 리스트 list1에 10, 20, 30, 40, 50을 저장하고, list1의 자료형을 확인하세요.\n",
    "\n",
    "- 힌트: type(자료형)\n"
   ]
  },
  {
   "cell_type": "code",
   "execution_count": null,
   "metadata": {
    "id": "233391f7"
   },
   "outputs": [],
   "source": [
    "\n",
    "\n",
    "\n"
   ]
  },
  {
   "cell_type": "markdown",
   "metadata": {
    "id": "mRSakjfgFT4l"
   },
   "source": [
    "5)) 리스트에서는 평균을 구하는 함수가 제공되지 않습니다.\n",
    "\n",
    "- 리스트 num = [10, 21, 34, 47, 53]일 때, num의 평균을 계산하여 출력하세요."
   ]
  },
  {
   "cell_type": "code",
   "execution_count": null,
   "metadata": {
    "id": "00947959"
   },
   "outputs": [],
   "source": [
    "\n",
    "\n",
    "\n"
   ]
  },
  {
   "cell_type": "markdown",
   "metadata": {
    "id": "23X8SittFn6I"
   },
   "source": [
    "6) 리스트 list1에 10, 20, 30, 40, 50을 저장하고, 맨 끝에 60을 추가하세요."
   ]
  },
  {
   "cell_type": "code",
   "execution_count": null,
   "metadata": {
    "id": "45f38846"
   },
   "outputs": [],
   "source": [
    "\n",
    "\n",
    "\n"
   ]
  },
  {
   "cell_type": "markdown",
   "metadata": {
    "id": "SJCxCEP0Fv5c"
   },
   "source": [
    "7) 리스트 list3에 'python', 'is', 'funny'를 저장하고, 맨 끝에 '~', '!' 을 차례대로 추가하세요."
   ]
  },
  {
   "cell_type": "code",
   "execution_count": null,
   "metadata": {
    "id": "7d34a796"
   },
   "outputs": [],
   "source": [
    "\n",
    "\n",
    "\n"
   ]
  },
  {
   "cell_type": "markdown",
   "metadata": {
    "id": "D2z7mynEF8vz"
   },
   "source": [
    "8) 리스트 list1에 10, 20, 30, 40, 50을 저장하고 세 번째 위치에 60을 추가하세요.\n",
    "- 힌트: 리스트 이름.insert(추가할 위치의 인덱스 값, 추가할 값)"
   ]
  },
  {
   "cell_type": "code",
   "execution_count": null,
   "metadata": {
    "id": "60d29e0b"
   },
   "outputs": [],
   "source": [
    "\n",
    "\n",
    "\n"
   ]
  },
  {
   "cell_type": "markdown",
   "metadata": {
    "id": "2UytxYVmGFH4"
   },
   "source": [
    "9) 리스트 list1에 10, 20, 30, 40, 50을 저장하고, 30을 삭제하세요.\n",
    "\n",
    "- 힌트: 리스트 이름.remove(삭제할 값)"
   ]
  },
  {
   "cell_type": "code",
   "execution_count": null,
   "metadata": {
    "id": "305935aa"
   },
   "outputs": [],
   "source": [
    "\n",
    "\n",
    "\n"
   ]
  },
  {
   "cell_type": "markdown",
   "metadata": {
    "id": "GN7mCHa-GK-x"
   },
   "source": [
    "10) 리스트 list2에 1부터 20까지 3씩 증가하는 값들을 저장하고, 뒤에서 세 번째 값을 삭제하세요."
   ]
  },
  {
   "cell_type": "code",
   "execution_count": null,
   "metadata": {
    "id": "c0c2c69b"
   },
   "outputs": [],
   "source": [
    "\n",
    "\n",
    "\n"
   ]
  },
  {
   "cell_type": "markdown",
   "metadata": {
    "id": "qjGi__UFGQp-"
   },
   "source": [
    "11) 리스트 a = [1, 4, 3, 2]일 때 리스트의 값들을 오름차순으로 정렬해서 출력하세요.\n",
    "\n",
    "- 힌트: 리스트 이름.sort()"
   ]
  },
  {
   "cell_type": "code",
   "execution_count": null,
   "metadata": {
    "id": "39c77831"
   },
   "outputs": [],
   "source": [
    "\n",
    "\n",
    "\n"
   ]
  },
  {
   "cell_type": "markdown",
   "metadata": {
    "id": "MC_e_FNgGVxZ"
   },
   "source": [
    "12) 리스트 b = ['c', 'a', 'b', 'd']일 때 리스트의 값들을 내림차순으로 정렬해서 출력하세요.\n",
    "\n",
    "- 힌트: 리스트 이름.sort(reverse = True)"
   ]
  },
  {
   "cell_type": "code",
   "execution_count": null,
   "metadata": {
    "id": "888a76e3"
   },
   "outputs": [],
   "source": [
    "\n",
    "\n",
    "\n"
   ]
  }
 ],
 "metadata": {
  "colab": {
   "provenance": []
  },
  "kernelspec": {
   "display_name": "Python 3 (ipykernel)",
   "language": "python",
   "name": "python3"
  },
  "language_info": {
   "codemirror_mode": {
    "name": "ipython",
    "version": 3
   },
   "file_extension": ".py",
   "mimetype": "text/x-python",
   "name": "python",
   "nbconvert_exporter": "python",
   "pygments_lexer": "ipython3",
   "version": "3.11.3"
  }
 },
 "nbformat": 4,
 "nbformat_minor": 4
}
