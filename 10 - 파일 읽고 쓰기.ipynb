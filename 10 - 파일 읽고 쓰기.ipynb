{
 "cells": [
  {
   "cell_type": "markdown",
   "id": "b59ce349",
   "metadata": {
    "id": "b59ce349"
   },
   "source": [
    "<center><img src='https://raw.githubusercontent.com/Jangrae/img/master/title3.png' width=500/></center>"
   ]
  },
  {
   "cell_type": "markdown",
   "id": "6a52e981",
   "metadata": {
    "id": "6a52e981"
   },
   "source": [
    "# 10.파일 읽고 쓰기\n",
    "\n",
    "- 텍스트 파일을 읽고 쓰는 기본적인 방법을 학습합니다.\n",
    "- 좋은 글을 읽어와 멋진 워드 클라우드를 만들어봅니다\n",
    "- 파일을 다루는 상세한 기술이 필요한 경우 관련 자료를 찾아 학습하기를 권고합니다."
   ]
  },
  {
   "cell_type": "markdown",
   "id": "4a18aa3d",
   "metadata": {
    "id": "4a18aa3d"
   },
   "source": [
    "## 10.1.경로 확인\n",
    "\n",
    "- 사용자마다 파일을 저장하고 읽는 기본 경로를 ‘홈 디렉토리‘ 라고 합니다.\n",
    "- pathlib 패키지의 Path.home() 함수로 사용자 홈 디렉토리를 확인합니다."
   ]
  },
  {
   "cell_type": "code",
   "execution_count": null,
   "id": "00345f8b",
   "metadata": {
    "id": "00345f8b",
    "outputId": "b0fb1fc9-8bd0-42fa-e947-abb0b6cf515f"
   },
   "outputs": [],
   "source": [
    "# 홈 디렉토리 확인\n",
    "from pathlib import Path\n",
    "\n",
    "print(Path.home())"
   ]
  },
  {
   "cell_type": "markdown",
   "id": "76487266",
   "metadata": {
    "id": "76487266"
   },
   "source": [
    "- pathlib 패키지의 Path.cwd() 함수로 현재 작업 디렉토리를 확인합니다."
   ]
  },
  {
   "cell_type": "code",
   "execution_count": null,
   "id": "534d03fc",
   "metadata": {
    "id": "534d03fc",
    "outputId": "31a95ac3-8b1e-433c-e609-0ebfec07551c"
   },
   "outputs": [],
   "source": [
    "# 작업 디렉토리 확인\n",
    "from pathlib import Path\n",
    "\n",
    "print(Path.cwd())"
   ]
  },
  {
   "cell_type": "markdown",
   "id": "b2b08399",
   "metadata": {
    "id": "b2b08399"
   },
   "source": [
    "- Path.cwd().glob()를 사용해 디렉토리 안의 내용을 확인합니다."
   ]
  },
  {
   "cell_type": "code",
   "execution_count": null,
   "id": "b2625f09",
   "metadata": {
    "id": "b2625f09",
    "outputId": "658cc479-f911-4d99-988d-419aaf982eed"
   },
   "outputs": [],
   "source": [
    "# 디렉토리 내용 확인\n",
    "from pathlib import Path\n",
    "\n",
    "files = Path.cwd().glob('*')\n",
    "\n",
    "for f in files:\n",
    "     print(f)"
   ]
  },
  {
   "cell_type": "markdown",
   "id": "45dead4a",
   "metadata": {
    "id": "45dead4a"
   },
   "source": [
    "## 10.2.기본적인 파일 읽고 쓰기"
   ]
  },
  {
   "cell_type": "markdown",
   "id": "90f73d54",
   "metadata": {
    "id": "90f73d54"
   },
   "source": [
    "**1) 파일 쓰기**\n",
    "\n",
    "- **w** 모드로 파일을 열어 **write()** 메소드로 파일에 기록합니다.\n",
    "- 이미 같은 이름의 파일이 있다면 제거되고 새 파일이 만들어집니다.\n",
    "- 경로를 지정하지 않으면 현재 작업 디렉토리에 기록됩니다."
   ]
  },
  {
   "cell_type": "code",
   "execution_count": null,
   "id": "a66603b1",
   "metadata": {
    "id": "a66603b1"
   },
   "outputs": [],
   "source": [
    "# 파일 열기\n",
    "f = open('MyFile.txt', 'w')\n",
    "\n",
    "# 파일 쓰기\n",
    "f.write('안녕하세요?\\n')\n",
    "\n",
    "# 파일 닫기\n",
    "f.close()"
   ]
  },
  {
   "cell_type": "markdown",
   "id": "1d703a8c",
   "metadata": {
    "id": "1d703a8c"
   },
   "source": [
    "- mkdir()를 사용해 현재 작업 디렉토리에 새로운 디렉토리를 만듭니다."
   ]
  },
  {
   "cell_type": "code",
   "execution_count": null,
   "id": "8f493b86",
   "metadata": {
    "id": "8f493b86"
   },
   "outputs": [],
   "source": [
    "# 디렉토리 만들기\n",
    "Path('Files').mkdir(exist_ok=True)"
   ]
  },
  {
   "cell_type": "markdown",
   "id": "7393fedb",
   "metadata": {
    "id": "7393fedb"
   },
   "source": [
    "- Files/MyFile.txt 처럼 경로를 지정해 특정 디렉토리 안에 파일을 만듭니다.\n",
    "- Windows에서 경로 구분자로 '\\\\' 를 사용하는 것과 달리 '/' 를 사용함에 주의합니다."
   ]
  },
  {
   "cell_type": "code",
   "execution_count": null,
   "id": "1f393aee",
   "metadata": {
    "id": "1f393aee"
   },
   "outputs": [],
   "source": [
    "# 파일 열기\n",
    "f = open('Files/MyFile.txt', 'w')\n",
    "\n",
    "# 파일 쓰기\n",
    "f.write('모두들 안녕하세요?\\n')\n",
    "\n",
    "# 파일 닫기\n",
    "f.close()"
   ]
  },
  {
   "cell_type": "markdown",
   "id": "3de7265b",
   "metadata": {
    "id": "3de7265b"
   },
   "source": [
    "**2) 파일 읽기**\n",
    "\n",
    "- r 모드로 파일을 열어 read() 메소드로 파일을 읽을 수 있습니다.\n",
    "- 지정한 파일이 없으면 오류가 발생합니다."
   ]
  },
  {
   "cell_type": "code",
   "execution_count": null,
   "id": "d538a991",
   "metadata": {
    "id": "d538a991",
    "outputId": "393d48b3-700d-4c21-cc1c-76f0ec9d3fa8"
   },
   "outputs": [],
   "source": [
    "# 파일 열기\n",
    "f = open('MyFile.txt', 'r')\n",
    "\n",
    "# 내용 읽기\n",
    "print(f.read())\n",
    "\n",
    "# 파일 닫기\n",
    "f.close()"
   ]
  },
  {
   "cell_type": "markdown",
   "id": "8ca289a7",
   "metadata": {
    "id": "8ca289a7"
   },
   "source": [
    "- 경로를 지정해 특정 디렉토리 안의 파일을 읽어옵니다."
   ]
  },
  {
   "cell_type": "code",
   "execution_count": null,
   "id": "47a4a297",
   "metadata": {
    "id": "47a4a297",
    "outputId": "c1cbdebe-e008-4958-d2c5-614cdcfda425"
   },
   "outputs": [],
   "source": [
    "# 파일 열기\n",
    "f = open('Files/MyFile.txt', 'r')\n",
    "\n",
    "# 내용 읽기\n",
    "print(f.read())\n",
    "\n",
    "# 파일 닫기\n",
    "f.close()"
   ]
  },
  {
   "cell_type": "markdown",
   "id": "56341b9f",
   "metadata": {
    "id": "56341b9f"
   },
   "source": [
    "**3) 파일 내용 추가**\n",
    "\n",
    "- a 모드로 파일을 열어 write() 메소드로 내용을 추가할 수 있습니다.\n",
    "- 지정한 파일이 없으면 새 파일이 만들어집니다. "
   ]
  },
  {
   "cell_type": "code",
   "execution_count": null,
   "id": "b31ba938",
   "metadata": {
    "id": "b31ba938"
   },
   "outputs": [],
   "source": [
    "# 파일 열기\n",
    "f = open('MyFile.txt', 'a')\n",
    "\n",
    "# 내용 추가\n",
    "f.write('만나서 반갑습니다!')\n",
    "\n",
    "# 파일 닫기\n",
    "f.close()"
   ]
  },
  {
   "cell_type": "markdown",
   "id": "2cc49526",
   "metadata": {},
   "source": [
    "- 추가된 내용을 확인합니다."
   ]
  },
  {
   "cell_type": "code",
   "execution_count": null,
   "id": "e09a9fdb",
   "metadata": {
    "id": "e09a9fdb",
    "outputId": "2b0fa195-5f9b-4a8b-83ec-f32731866cba"
   },
   "outputs": [],
   "source": [
    "# 파일 열기\n",
    "f = open('MyFile.txt', 'r')\n",
    "print(f.read())\n",
    "f.close()"
   ]
  },
  {
   "cell_type": "markdown",
   "id": "0eeab2d9",
   "metadata": {
    "id": "0eeab2d9"
   },
   "source": [
    "**4) 파일 있으면 오류 발생**\n",
    "\n",
    "- x 모드로 파일을 열면 같은 파일이 있는 경우 오류를 발생시킵니다.\n",
    "- 파일이 없으면 w 모드로 파일은 연 결과가 됩니다."
   ]
  },
  {
   "cell_type": "code",
   "execution_count": null,
   "id": "fc8dfe80",
   "metadata": {
    "id": "fc8dfe80"
   },
   "outputs": [],
   "source": [
    "# 파일 열기 \n",
    "f = open('MyFile.txt', 'x')\n",
    "\n",
    "# 내용 쓰기\n",
    "f.write('만나서 반갑습니다!')\n",
    "\n",
    "# 파일 닫기\n",
    "f.close()"
   ]
  },
  {
   "cell_type": "markdown",
   "id": "f5a24561",
   "metadata": {
    "id": "f5a24561"
   },
   "source": [
    "- 같은 이름의 파일이 있어 오류가 나는 것에 대한 핸들링을 합니다."
   ]
  },
  {
   "cell_type": "code",
   "execution_count": null,
   "id": "a5483cd0",
   "metadata": {
    "id": "a5483cd0",
    "outputId": "e77a531f-5d11-4479-bbed-62a83b2a2aa2"
   },
   "outputs": [],
   "source": [
    "# 오류 핸들링\n",
    "try: \n",
    "    f = open('MyFile.txt', 'x')\n",
    "    f.write('만나서 반갑습니다!')\n",
    "    f.close()\n",
    "except FileExistsError:     #  이미 파일이 있으면\n",
    "    print('같은 이름의 파일이 있습니다.')\n",
    "else:                       # 그렇지 않으면\n",
    "    print('파일 쓰기 성공했습니다.')\n",
    "finally:                    # 마무리\n",
    "    print('수고하셨습니다.')"
   ]
  },
  {
   "cell_type": "markdown",
   "id": "f7065948",
   "metadata": {},
   "source": [
    "<img src='https://raw.githubusercontent.com/jangrae/img/master/practice_01.png' width=120 align = \"left\"/>"
   ]
  },
  {
   "cell_type": "markdown",
   "id": "f7eb110b",
   "metadata": {},
   "source": [
    "[문1] Python.txt 파일을 만드세요.  "
   ]
  },
  {
   "cell_type": "code",
   "execution_count": null,
   "id": "169098d7",
   "metadata": {},
   "outputs": [],
   "source": [
    "# 파일 열기\n"
   ]
  },
  {
   "cell_type": "markdown",
   "id": "abf486f0",
   "metadata": {},
   "source": [
    "[문2] 아래 내용을 파일에 입력해 보세요.\n",
    "\n",
    "- 홍길동 대신 자신의 이름을 입력합니다. \n",
    "- 입력 후에는 파일을 close 하고, 탐색기에서 열어 보세요.\n",
    "\n",
    "<파이썬과 나>  \n",
    "시인: 홍길동"
   ]
  },
  {
   "cell_type": "code",
   "execution_count": null,
   "id": "3d92d7ab",
   "metadata": {},
   "outputs": [],
   "source": [
    "# 내용 쓰기\n",
    "\n",
    "\n",
    "\n",
    "# 파일 닫기\n"
   ]
  },
  {
   "cell_type": "markdown",
   "id": "03640659",
   "metadata": {},
   "source": [
    "[문3] 아래 내용을 파일에 추가해 봅시다.\n",
    "\n",
    "- 추가한 후에는 파일을 close 하고, 탐색기에서 열어 보세요.\n",
    "\n",
    "~~~\n",
    "어느날 \n",
    "파이썬이 나에게 왔다.\n",
    "많이 낯설었다.\n",
    "지금은 나와 하나가 되었다.\n",
    "파이썬이 나고,\n",
    "내가 파이썬이다.\n",
    "~~~"
   ]
  },
  {
   "cell_type": "code",
   "execution_count": null,
   "id": "0cc6dac2",
   "metadata": {},
   "outputs": [],
   "source": [
    "# 파일 열기\n",
    "\n",
    "\n",
    "# 내용 추가\n",
    "\n",
    "\n",
    "\n",
    "\n",
    "# 파일 닫기\n"
   ]
  },
  {
   "cell_type": "markdown",
   "id": "a96f03ec",
   "metadata": {
    "id": "a96f03ec"
   },
   "source": [
    "## 10.3.파일을 다루는 편리한 메소드"
   ]
  },
  {
   "cell_type": "markdown",
   "id": "1af7463a",
   "metadata": {
    "id": "1af7463a"
   },
   "source": [
    "**1) writelines() 메소드**\n",
    "\n",
    "- writelines() 메소드를 사용해 행 리스트를 파일에 기록할 수 있습니다."
   ]
  },
  {
   "cell_type": "code",
   "execution_count": null,
   "id": "2a477f2c",
   "metadata": {
    "id": "2a477f2c"
   },
   "outputs": [],
   "source": [
    "# 파일 여러 줄 쓰기\n",
    "hello = ['안녕하세요?\\n', '만나서 반갑습니다!\\n', '우리 사이좋게 잘 지내요.\\n']\n",
    "f = open('MyFile.txt', 'w')\n",
    "f.writelines(hello)\n",
    "f.close()"
   ]
  },
  {
   "cell_type": "markdown",
   "id": "9f54c66c",
   "metadata": {},
   "source": [
    "- 추가된 내용을 확인합니다."
   ]
  },
  {
   "cell_type": "code",
   "execution_count": null,
   "id": "88b27f8d",
   "metadata": {
    "id": "88b27f8d",
    "outputId": "0bfb85dd-b9fa-4912-d55e-2b814918f019"
   },
   "outputs": [],
   "source": [
    "# 파일 읽기\n",
    "f =  open('MyFile.txt', 'r') \n",
    "print(f.read())\n",
    "f.close()"
   ]
  },
  {
   "cell_type": "markdown",
   "id": "036405a3",
   "metadata": {
    "id": "036405a3"
   },
   "source": [
    "**2) readlines() 메소드**\n",
    "\n",
    "- readlines() 메소드를 사용해 모든 행을 한 번에 읽을 수 있습니다.\n",
    "- 결과는 리스트가 되므로, 반복문으로 한 행 씩 읽을 수 있습니다."
   ]
  },
  {
   "cell_type": "code",
   "execution_count": null,
   "id": "169524a0",
   "metadata": {
    "id": "169524a0",
    "outputId": "ba478756-9605-4389-fe7e-4351e4fe1386"
   },
   "outputs": [],
   "source": [
    "# 파일 한 번에 읽기\n",
    "f = open('MyFile.txt', 'r')\n",
    "result = f.readlines()\n",
    "f.close()\n",
    "\n",
    "# 내용 확인\n",
    "print(result)"
   ]
  },
  {
   "cell_type": "code",
   "execution_count": null,
   "id": "bfc029c2",
   "metadata": {
    "id": "bfc029c2",
    "outputId": "37e7e5b2-26f5-457c-e7d6-791f05277c14"
   },
   "outputs": [],
   "source": [
    "# 반복문으로 한 행씩 표시\n",
    "for txt in result:\n",
    "    print(txt, end='')"
   ]
  },
  {
   "cell_type": "markdown",
   "id": "f1e21374",
   "metadata": {
    "id": "f1e21374"
   },
   "source": [
    "**3) readline() 메소드**\n",
    "\n",
    "- readline() 메소드를 사용해 행 단위로 읽을 수 있습니다.\n",
    "- 결과는 문자열이 됩니다."
   ]
  },
  {
   "cell_type": "code",
   "execution_count": null,
   "id": "7ef89a90",
   "metadata": {},
   "outputs": [],
   "source": [
    "# 파일 읽기\n",
    "f = open('MyFile.txt', 'r')\n",
    "\n",
    "# 내용 읽기\n",
    "print(f.readline())\n",
    "print(f.readline())\n",
    "print(f.readline())\n",
    "\n",
    "# 파일 닫기\n",
    "f.close()"
   ]
  },
  {
   "cell_type": "markdown",
   "id": "c6d8d94b",
   "metadata": {},
   "source": [
    "- 반복문을 이용해 모든 행을 읽어올 수 있습니다."
   ]
  },
  {
   "cell_type": "code",
   "execution_count": null,
   "id": "7efca9e1",
   "metadata": {
    "id": "7efca9e1",
    "outputId": "eef66176-418b-4f57-d3df-fd63010afc27"
   },
   "outputs": [],
   "source": [
    "# 파일 읽기\n",
    "f = open('MyFile.txt', 'r')\n",
    "result = f.readline()\n",
    "\n",
    "# 반복문으로 한 행씩 읽어 표시\n",
    "while result:\n",
    "    print(result, end='')\n",
    "    result = f.readline()\n",
    "\n",
    "# 파일 닫기\n",
    "f.close()"
   ]
  },
  {
   "cell_type": "markdown",
   "id": "717b474c",
   "metadata": {},
   "source": [
    "## 10.4.워드 클라우드 만들기\n",
    "\n",
    "- 마틴루터킹 목사의 'I have a Dream' 연설문을 가지고 워드 클라우드를 만들어 봅니다."
   ]
  },
  {
   "cell_type": "markdown",
   "id": "959624be",
   "metadata": {},
   "source": [
    "<img src='https://i.ytimg.com/vi/mrP2lh7oTBU/maxresdefault.jpg' width=650 align = \"left\"/>"
   ]
  },
  {
   "cell_type": "markdown",
   "id": "e43c3201",
   "metadata": {
    "id": "a96f03ec"
   },
   "source": [
    "- 워드 클라우드를 만드는 순서는 다음과 같습니다.\n",
    "\n",
    "1) 텍스트파일로 저장하기\n",
    "\n",
    "    - 읽을 파일을 만듭니다.\n",
    "    - 여기서는 수동으로 어디선가 가져오겠지만,\n",
    "    - 나중에는 크롤링을 통해서 웹에서 가져올 수도 있습니다.\n",
    "    \n",
    "    \n",
    "2) 텍스트 전처리\n",
    "\n",
    "    - 파일을 읽어서 split() 메소드를 사용해 단어 단위로 쪼갭니다.\n",
    "    - 단어별 빈도수를 계산하여 딕셔너리 형태로 저장합니다.\n",
    "    - 분석에 의미가 없는 조사들은 제거합니다.\n",
    "    \n",
    "3) 워드 클라우드 그리기\n",
    "\n",
    "    -  wordcloud 라이브러리를 설치한 후 불러옵니다.\n",
    "    - 워드 클라우드를 그립니다."
   ]
  },
  {
   "cell_type": "markdown",
   "id": "2a852b4b",
   "metadata": {},
   "source": [
    "**1) 텍스트파일로 저장하기**\n",
    "\n",
    "- 수업을 위해 이미 저장해 놓았습니다."
   ]
  },
  {
   "cell_type": "markdown",
   "id": "ec6410a3",
   "metadata": {},
   "source": [
    "**2) 텍스트 전처리**\n",
    "\n",
    "- 우선 파일을 읽어와 내용을 확인합니다.\n",
    "- 한글 파일을 읽어올 때 인코딩 오류가 발생하면 encoding='CP949'로 지정합니다."
   ]
  },
  {
   "cell_type": "code",
   "execution_count": null,
   "id": "971f1f4b",
   "metadata": {},
   "outputs": [],
   "source": [
    "# 파일 읽기\n",
    "file = open('Dream.txt', 'r', encoding='UTF8')\n",
    "text = file.read() \n",
    "file.close()\n",
    "\n",
    "# 확인(100 글자만)\n",
    "text[:100]"
   ]
  },
  {
   "cell_type": "markdown",
   "id": "e891fde0",
   "metadata": {},
   "source": [
    "- split() 메소드를 사용해  단어 단위로 잘라 리스트 형태로 만듭니다."
   ]
  },
  {
   "cell_type": "code",
   "execution_count": null,
   "id": "eca8c7b3",
   "metadata": {
    "id": "1fc06a5e",
    "outputId": "7de05bc3-37b3-4fdc-85e0-36047500ef3c"
   },
   "outputs": [],
   "source": [
    "# 공백을 구분자로 하여 단어 단위로 자르기\n",
    "wordList = \n",
    "\n",
    "# 확인(10 개만)\n",
    "wordList[:10]"
   ]
  },
  {
   "cell_type": "markdown",
   "id": "e75207ec",
   "metadata": {},
   "source": [
    "- 단어별 빈도수를 계산하여 딕셔너리로 저장합니다."
   ]
  },
  {
   "cell_type": "code",
   "execution_count": null,
   "id": "2c967a89",
   "metadata": {},
   "outputs": [],
   "source": [
    "# 중복 단어 제거\n",
    "worduniq = \n",
    "\n",
    "# 딕셔너리 선언\n",
    "wordCount = {}\n",
    "\n",
    "# 단어별 개수 저장\n",
    "for w in worduniq:\n",
    "    wordCount[w] = wordList.count(w)\n",
    "\n",
    "# 제외 대상 조사 \n",
    "del_word = ['the','a','is','are', 'not','of','on','that','this','and','be','to', 'from']\n",
    "\n",
    "# 제외하기\n",
    "\n",
    "\n"
   ]
  },
  {
   "cell_type": "markdown",
   "id": "d5098238",
   "metadata": {},
   "source": [
    "**3) 워드 클라우드 그리기**\n",
    "\n",
    "- wordcloud 패키지를 설치합니다."
   ]
  },
  {
   "cell_type": "code",
   "execution_count": null,
   "id": "369fe88f",
   "metadata": {},
   "outputs": [],
   "source": [
    "# 패키지 설치합\n",
    "!pip install wordcloud"
   ]
  },
  {
   "cell_type": "markdown",
   "id": "251c6c13",
   "metadata": {},
   "source": [
    "- 드디어! 워드 클라우드를 그립니다."
   ]
  },
  {
   "cell_type": "code",
   "execution_count": null,
   "id": "67fb5b3f",
   "metadata": {},
   "outputs": [],
   "source": [
    "# 라이브러리 불러오기\n",
    "import matplotlib.pyplot as plt\n",
    "from wordcloud import WordCloud\n",
    "%config InlineBackend.figure_format='retina'\n",
    "\n",
    "# 워드 클라우드 만들기\n",
    "wordcloud = WordCloud(font_path = 'C:/Windiws/fonts/HMKMRHD.TTF', \n",
    "                      width=2000,\n",
    "                      height=1000,\n",
    "                      background_color='white').generate_from_frequencies(    )\n",
    "\n",
    "# 표시하기\n",
    "plt.figure(figsize=(12, 6))\n",
    "plt.imshow(    )\n",
    "plt.axis(\"off\")\n",
    "plt.tight_layout(pad=0)\n",
    "plt.show()"
   ]
  },
  {
   "cell_type": "markdown",
   "id": "8b1235ec",
   "metadata": {},
   "source": [
    "<img src='https://raw.githubusercontent.com/jangrae/img/master/practice_01.png' width=120 align=\"left\"/>"
   ]
  },
  {
   "cell_type": "markdown",
   "id": "497040e3",
   "metadata": {},
   "source": [
    "[문1] 불필요한 조사나 단어를 좀 더 제외한 후 다시 그려봅니다."
   ]
  },
  {
   "cell_type": "code",
   "execution_count": null,
   "id": "738f65d0",
   "metadata": {},
   "outputs": [],
   "source": [
    "# 제외 대상 조사\n",
    "\n",
    "\n",
    "# 제외하기\n",
    "\n",
    "\n"
   ]
  },
  {
   "cell_type": "code",
   "execution_count": null,
   "id": "bc4af204",
   "metadata": {},
   "outputs": [],
   "source": [
    "# 워드 클라우드 그리기\n",
    "\n",
    "\n"
   ]
  },
  {
   "cell_type": "markdown",
   "id": "d4e228e8",
   "metadata": {},
   "source": [
    "## 참고: 이미지 파일 사용\n",
    "\n",
    "- 이미지 파일을 사용해 워드클라우드 전체 프레임 모양을 변경할 수 있습니다.  "
   ]
  },
  {
   "cell_type": "code",
   "execution_count": null,
   "id": "508b1c50",
   "metadata": {},
   "outputs": [],
   "source": [
    "# 라이브러리 불러오기\n",
    "import numpy as np\n",
    "from PIL import Image\n",
    "\n",
    "# 이미지 불러오기\n",
    "masking_image = np.array(Image.open('  ?  '))\n",
    "\n",
    "# 워드 클라우드 만들기\n",
    "wordcloud = WordCloud(font_path = 'C:/Windiws/fonts/HMKMRHD.TTF',\n",
    "                      width=2000, \n",
    "                      height=1000, \n",
    "                      mask=masking_image,\n",
    "                      background_color='white').generate_from_frequencies(wordCount)\n",
    "\n",
    "# 표시하기\n",
    "plt.figure(figsize=(12, 6))\n",
    "plt.imshow(wordcloud)\n",
    "plt.axis(\"off\")\n",
    "plt.tight_layout(pad=0)\n",
    "plt.show()"
   ]
  }
 ],
 "metadata": {
  "colab": {
   "collapsed_sections": [],
   "name": "10 - 파일 읽고 쓰기.ipynb",
   "provenance": [],
   "toc_visible": true
  },
  "kernelspec": {
   "display_name": "Python 3 (ipykernel)",
   "language": "python",
   "name": "python3"
  },
  "language_info": {
   "codemirror_mode": {
    "name": "ipython",
    "version": 3
   },
   "file_extension": ".py",
   "mimetype": "text/x-python",
   "name": "python",
   "nbconvert_exporter": "python",
   "pygments_lexer": "ipython3",
   "version": "3.11.3"
  }
 },
 "nbformat": 4,
 "nbformat_minor": 5
}
